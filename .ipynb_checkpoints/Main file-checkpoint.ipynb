{
 "cells": [
  {
   "cell_type": "code",
   "execution_count": 2,
   "id": "3add9e74",
   "metadata": {},
   "outputs": [
    {
     "data": {
      "text/plain": [
       "{0: (0, [300, 155, 2, 140, 0, 0, 0]),\n",
       " 1: (0, [300, 155, 2, 140, 0, 0, 0]),\n",
       " 2: (1, [192, 155, 2, 200, 0, 0, 0]),\n",
       " 3: (1, [192, 155, 2, 200, 0, 0, 0])}"
      ]
     },
     "execution_count": 2,
     "metadata": {},
     "output_type": "execute_result"
    }
   ],
   "source": [
    "import pickle\n",
    "with open('B.pickle', 'rb') as handle:\n",
    "    B = pickle.load(handle)\n",
    "\n",
    "B"
   ]
  },
  {
   "cell_type": "code",
   "execution_count": 4,
   "id": "47bcf8c1",
   "metadata": {},
   "outputs": [
    {
     "data": {
      "text/plain": [
       "{0: (59, 29, 1, 1, 0, 0),\n",
       " 1: (91, 50, 1, 0, 0, 0),\n",
       " 2: (117, 35, 1, 0, 0, 0),\n",
       " 3: (70, 23, 1, 0, 1, 0),\n",
       " 4: (96, 37, 1, 1, 0, 0),\n",
       " 5: (86, 56, 1, 0, 0, 0),\n",
       " 6: (58, 35, 1, 0, 0, 0),\n",
       " 7: (71, 41, 1, 0, 0, 0),\n",
       " 8: (90, 61, 1, 0, 0, 0),\n",
       " 9: (109, 28, 1, 1, 0, 0),\n",
       " 10: (98, 30, 1, 0, 0, 0),\n",
       " 11: (109, 40, 1, 0, 0, 0),\n",
       " 12: (76, 55, 1, 0, 0, 0),\n",
       " 13: (70, 46, 1, 1, 0, 1),\n",
       " 14: (66, 59, 1, 0, 0, 0),\n",
       " 15: (69, 39, 0, 0, 0, 0),\n",
       " 16: (117, 28, 0, 0, 0, 1),\n",
       " 17: (49, 28, 1, 0, 0, 0),\n",
       " 18: (74, 25, 1, 0, 0, 0),\n",
       " 19: (86, 27, 1, 1, 0, 0),\n",
       " 20: (65, 33, 1, 0, 0, 0),\n",
       " 21: (57, 57, 1, 0, 0, 0),\n",
       " 22: (58, 26, 0, 0, 0, 0),\n",
       " 23: (86, 41, 1, 0, 0, 0),\n",
       " 24: (55, 31, 1, 1, 0, 0)}"
      ]
     },
     "execution_count": 4,
     "metadata": {},
     "output_type": "execute_result"
    }
   ],
   "source": [
    "with open('R.pickle', 'rb') as handle:\n",
    "    R = pickle.load(handle)\n",
    "\n",
    "R"
   ]
  },
  {
   "cell_type": "code",
   "execution_count": null,
   "id": "0dfdd162",
   "metadata": {},
   "outputs": [],
   "source": []
  }
 ],
 "metadata": {
  "kernelspec": {
   "display_name": "Python 3 (ipykernel)",
   "language": "python",
   "name": "python3"
  },
  "language_info": {
   "codemirror_mode": {
    "name": "ipython",
    "version": 3
   },
   "file_extension": ".py",
   "mimetype": "text/x-python",
   "name": "python",
   "nbconvert_exporter": "python",
   "pygments_lexer": "ipython3",
   "version": "3.9.13"
  }
 },
 "nbformat": 4,
 "nbformat_minor": 5
}
